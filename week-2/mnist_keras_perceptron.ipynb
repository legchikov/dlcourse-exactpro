{
  "nbformat": 4,
  "nbformat_minor": 0,
  "metadata": {
    "colab": {
      "name": "mnist-keras-perceptron.ipynb",
      "version": "0.3.2",
      "provenance": [],
      "collapsed_sections": []
    },
    "kernelspec": {
      "name": "python3",
      "display_name": "Python 3"
    }
  },
  "cells": [
    {
      "metadata": {
        "id": "AVnaSow_wfco",
        "colab_type": "code",
        "colab": {}
      },
      "cell_type": "code",
      "source": [
        "import numpy as np\n",
        "from keras.datasets import mnist\n",
        "from keras.models import Sequential\n",
        "from keras.layers import Dense\n",
        "from keras.layers import Dropout\n",
        "from keras.utils import np_utils\n",
        "import matplotlib.pyplot as plt\n",
        "from keras.utils.vis_utils import plot_model\n",
        "from keras.preprocessing.image import img_to_array, load_img"
      ],
      "execution_count": 0,
      "outputs": []
    },
    {
      "metadata": {
        "id": "7qE_Yw0XVLX_",
        "colab_type": "code",
        "colab": {}
      },
      "cell_type": "code",
      "source": [
        "# fix random seed for reproducibility\n",
        "seed = 7\n",
        "np.random.seed(seed)\n",
        "bs = 200"
      ],
      "execution_count": 0,
      "outputs": []
    },
    {
      "metadata": {
        "id": "AZUsTdH6wohz",
        "colab_type": "code",
        "colab": {
          "base_uri": "https://localhost:8080/",
          "height": 51
        },
        "outputId": "badb2170-3f4f-40d6-cab0-3f9ee7a002f5"
      },
      "cell_type": "code",
      "source": [
        "# load data\n",
        "(X_train, y_train), (X_test, y_test) = mnist.load_data()"
      ],
      "execution_count": 4,
      "outputs": [
        {
          "output_type": "stream",
          "text": [
            "Downloading data from https://s3.amazonaws.com/img-datasets/mnist.npz\n",
            "11493376/11490434 [==============================] - 0s 0us/step\n"
          ],
          "name": "stdout"
        }
      ]
    },
    {
      "metadata": {
        "id": "7CEijy8L-9P3",
        "colab_type": "code",
        "colab": {
          "base_uri": "https://localhost:8080/",
          "height": 2686
        },
        "outputId": "63c76925-2a57-49fa-f005-0379b506a40c"
      },
      "cell_type": "code",
      "source": [
        "X_train[0]"
      ],
      "execution_count": 200,
      "outputs": [
        {
          "output_type": "execute_result",
          "data": {
            "text/plain": [
              "array([0.        , 0.        , 0.        , 0.        , 0.        ,\n",
              "       0.        , 0.        , 0.        , 0.        , 0.        ,\n",
              "       0.        , 0.        , 0.        , 0.        , 0.        ,\n",
              "       0.        , 0.        , 0.        , 0.        , 0.        ,\n",
              "       0.        , 0.        , 0.        , 0.        , 0.        ,\n",
              "       0.        , 0.        , 0.        , 0.        , 0.        ,\n",
              "       0.        , 0.        , 0.        , 0.        , 0.        ,\n",
              "       0.        , 0.        , 0.        , 0.        , 0.        ,\n",
              "       0.        , 0.        , 0.        , 0.        , 0.        ,\n",
              "       0.        , 0.        , 0.        , 0.        , 0.        ,\n",
              "       0.        , 0.        , 0.        , 0.        , 0.        ,\n",
              "       0.        , 0.        , 0.        , 0.        , 0.        ,\n",
              "       0.        , 0.        , 0.        , 0.        , 0.        ,\n",
              "       0.        , 0.        , 0.        , 0.        , 0.        ,\n",
              "       0.        , 0.        , 0.        , 0.        , 0.        ,\n",
              "       0.        , 0.        , 0.        , 0.        , 0.        ,\n",
              "       0.        , 0.        , 0.        , 0.        , 0.        ,\n",
              "       0.        , 0.        , 0.        , 0.        , 0.        ,\n",
              "       0.        , 0.        , 0.        , 0.        , 0.        ,\n",
              "       0.        , 0.        , 0.        , 0.        , 0.        ,\n",
              "       0.        , 0.        , 0.        , 0.        , 0.        ,\n",
              "       0.        , 0.        , 0.        , 0.        , 0.        ,\n",
              "       0.        , 0.        , 0.        , 0.        , 0.        ,\n",
              "       0.        , 0.        , 0.        , 0.        , 0.        ,\n",
              "       0.        , 0.        , 0.        , 0.        , 0.        ,\n",
              "       0.        , 0.        , 0.        , 0.        , 0.        ,\n",
              "       0.        , 0.        , 0.        , 0.        , 0.        ,\n",
              "       0.        , 0.        , 0.        , 0.        , 0.        ,\n",
              "       0.        , 0.        , 0.        , 0.        , 0.        ,\n",
              "       0.        , 0.        , 0.        , 0.        , 0.        ,\n",
              "       0.        , 0.        , 0.01176471, 0.07058824, 0.07058824,\n",
              "       0.07058824, 0.49411765, 0.53333336, 0.6862745 , 0.10196079,\n",
              "       0.6509804 , 1.        , 0.96862745, 0.49803922, 0.        ,\n",
              "       0.        , 0.        , 0.        , 0.        , 0.        ,\n",
              "       0.        , 0.        , 0.        , 0.        , 0.        ,\n",
              "       0.        , 0.11764706, 0.14117648, 0.36862746, 0.6039216 ,\n",
              "       0.6666667 , 0.99215686, 0.99215686, 0.99215686, 0.99215686,\n",
              "       0.99215686, 0.88235295, 0.6745098 , 0.99215686, 0.9490196 ,\n",
              "       0.7647059 , 0.2509804 , 0.        , 0.        , 0.        ,\n",
              "       0.        , 0.        , 0.        , 0.        , 0.        ,\n",
              "       0.        , 0.        , 0.        , 0.19215687, 0.93333334,\n",
              "       0.99215686, 0.99215686, 0.99215686, 0.99215686, 0.99215686,\n",
              "       0.99215686, 0.99215686, 0.99215686, 0.9843137 , 0.3647059 ,\n",
              "       0.32156864, 0.32156864, 0.21960784, 0.15294118, 0.        ,\n",
              "       0.        , 0.        , 0.        , 0.        , 0.        ,\n",
              "       0.        , 0.        , 0.        , 0.        , 0.        ,\n",
              "       0.        , 0.07058824, 0.85882354, 0.99215686, 0.99215686,\n",
              "       0.99215686, 0.99215686, 0.99215686, 0.7764706 , 0.7137255 ,\n",
              "       0.96862745, 0.94509804, 0.        , 0.        , 0.        ,\n",
              "       0.        , 0.        , 0.        , 0.        , 0.        ,\n",
              "       0.        , 0.        , 0.        , 0.        , 0.        ,\n",
              "       0.        , 0.        , 0.        , 0.        , 0.        ,\n",
              "       0.3137255 , 0.6117647 , 0.41960785, 0.99215686, 0.99215686,\n",
              "       0.8039216 , 0.04313726, 0.        , 0.16862746, 0.6039216 ,\n",
              "       0.        , 0.        , 0.        , 0.        , 0.        ,\n",
              "       0.        , 0.        , 0.        , 0.        , 0.        ,\n",
              "       0.        , 0.        , 0.        , 0.        , 0.        ,\n",
              "       0.        , 0.        , 0.        , 0.        , 0.05490196,\n",
              "       0.00392157, 0.6039216 , 0.99215686, 0.3529412 , 0.        ,\n",
              "       0.        , 0.        , 0.        , 0.        , 0.        ,\n",
              "       0.        , 0.        , 0.        , 0.        , 0.        ,\n",
              "       0.        , 0.        , 0.        , 0.        , 0.        ,\n",
              "       0.        , 0.        , 0.        , 0.        , 0.        ,\n",
              "       0.        , 0.        , 0.        , 0.        , 0.54509807,\n",
              "       0.99215686, 0.74509805, 0.00784314, 0.        , 0.        ,\n",
              "       0.        , 0.        , 0.        , 0.        , 0.        ,\n",
              "       0.        , 0.        , 0.        , 0.        , 0.        ,\n",
              "       0.        , 0.        , 0.        , 0.        , 0.        ,\n",
              "       0.        , 0.        , 0.        , 0.        , 0.        ,\n",
              "       0.        , 0.        , 0.04313726, 0.74509805, 0.99215686,\n",
              "       0.27450982, 0.        , 0.        , 0.        , 0.        ,\n",
              "       0.        , 0.        , 0.        , 0.        , 0.        ,\n",
              "       0.        , 0.        , 0.        , 0.        , 0.        ,\n",
              "       0.        , 0.        , 0.        , 0.        , 0.        ,\n",
              "       0.        , 0.        , 0.        , 0.        , 0.        ,\n",
              "       0.        , 0.13725491, 0.94509804, 0.88235295, 0.627451  ,\n",
              "       0.42352942, 0.00392157, 0.        , 0.        , 0.        ,\n",
              "       0.        , 0.        , 0.        , 0.        , 0.        ,\n",
              "       0.        , 0.        , 0.        , 0.        , 0.        ,\n",
              "       0.        , 0.        , 0.        , 0.        , 0.        ,\n",
              "       0.        , 0.        , 0.        , 0.        , 0.        ,\n",
              "       0.31764707, 0.9411765 , 0.99215686, 0.99215686, 0.46666667,\n",
              "       0.09803922, 0.        , 0.        , 0.        , 0.        ,\n",
              "       0.        , 0.        , 0.        , 0.        , 0.        ,\n",
              "       0.        , 0.        , 0.        , 0.        , 0.        ,\n",
              "       0.        , 0.        , 0.        , 0.        , 0.        ,\n",
              "       0.        , 0.        , 0.        , 0.        , 0.1764706 ,\n",
              "       0.7294118 , 0.99215686, 0.99215686, 0.5882353 , 0.10588235,\n",
              "       0.        , 0.        , 0.        , 0.        , 0.        ,\n",
              "       0.        , 0.        , 0.        , 0.        , 0.        ,\n",
              "       0.        , 0.        , 0.        , 0.        , 0.        ,\n",
              "       0.        , 0.        , 0.        , 0.        , 0.        ,\n",
              "       0.        , 0.        , 0.        , 0.0627451 , 0.3647059 ,\n",
              "       0.9882353 , 0.99215686, 0.73333335, 0.        , 0.        ,\n",
              "       0.        , 0.        , 0.        , 0.        , 0.        ,\n",
              "       0.        , 0.        , 0.        , 0.        , 0.        ,\n",
              "       0.        , 0.        , 0.        , 0.        , 0.        ,\n",
              "       0.        , 0.        , 0.        , 0.        , 0.        ,\n",
              "       0.        , 0.        , 0.        , 0.9764706 , 0.99215686,\n",
              "       0.9764706 , 0.2509804 , 0.        , 0.        , 0.        ,\n",
              "       0.        , 0.        , 0.        , 0.        , 0.        ,\n",
              "       0.        , 0.        , 0.        , 0.        , 0.        ,\n",
              "       0.        , 0.        , 0.        , 0.        , 0.        ,\n",
              "       0.        , 0.        , 0.        , 0.18039216, 0.50980395,\n",
              "       0.7176471 , 0.99215686, 0.99215686, 0.8117647 , 0.00784314,\n",
              "       0.        , 0.        , 0.        , 0.        , 0.        ,\n",
              "       0.        , 0.        , 0.        , 0.        , 0.        ,\n",
              "       0.        , 0.        , 0.        , 0.        , 0.        ,\n",
              "       0.        , 0.        , 0.        , 0.        , 0.15294118,\n",
              "       0.5803922 , 0.8980392 , 0.99215686, 0.99215686, 0.99215686,\n",
              "       0.98039216, 0.7137255 , 0.        , 0.        , 0.        ,\n",
              "       0.        , 0.        , 0.        , 0.        , 0.        ,\n",
              "       0.        , 0.        , 0.        , 0.        , 0.        ,\n",
              "       0.        , 0.        , 0.        , 0.        , 0.        ,\n",
              "       0.09411765, 0.44705883, 0.8666667 , 0.99215686, 0.99215686,\n",
              "       0.99215686, 0.99215686, 0.7882353 , 0.30588236, 0.        ,\n",
              "       0.        , 0.        , 0.        , 0.        , 0.        ,\n",
              "       0.        , 0.        , 0.        , 0.        , 0.        ,\n",
              "       0.        , 0.        , 0.        , 0.        , 0.        ,\n",
              "       0.        , 0.09019608, 0.25882354, 0.8352941 , 0.99215686,\n",
              "       0.99215686, 0.99215686, 0.99215686, 0.7764706 , 0.31764707,\n",
              "       0.00784314, 0.        , 0.        , 0.        , 0.        ,\n",
              "       0.        , 0.        , 0.        , 0.        , 0.        ,\n",
              "       0.        , 0.        , 0.        , 0.        , 0.        ,\n",
              "       0.        , 0.        , 0.07058824, 0.67058825, 0.85882354,\n",
              "       0.99215686, 0.99215686, 0.99215686, 0.99215686, 0.7647059 ,\n",
              "       0.3137255 , 0.03529412, 0.        , 0.        , 0.        ,\n",
              "       0.        , 0.        , 0.        , 0.        , 0.        ,\n",
              "       0.        , 0.        , 0.        , 0.        , 0.        ,\n",
              "       0.        , 0.        , 0.        , 0.21568628, 0.6745098 ,\n",
              "       0.8862745 , 0.99215686, 0.99215686, 0.99215686, 0.99215686,\n",
              "       0.95686275, 0.52156866, 0.04313726, 0.        , 0.        ,\n",
              "       0.        , 0.        , 0.        , 0.        , 0.        ,\n",
              "       0.        , 0.        , 0.        , 0.        , 0.        ,\n",
              "       0.        , 0.        , 0.        , 0.        , 0.        ,\n",
              "       0.        , 0.53333336, 0.99215686, 0.99215686, 0.99215686,\n",
              "       0.83137256, 0.5294118 , 0.5176471 , 0.0627451 , 0.        ,\n",
              "       0.        , 0.        , 0.        , 0.        , 0.        ,\n",
              "       0.        , 0.        , 0.        , 0.        , 0.        ,\n",
              "       0.        , 0.        , 0.        , 0.        , 0.        ,\n",
              "       0.        , 0.        , 0.        , 0.        , 0.        ,\n",
              "       0.        , 0.        , 0.        , 0.        , 0.        ,\n",
              "       0.        , 0.        , 0.        , 0.        , 0.        ,\n",
              "       0.        , 0.        , 0.        , 0.        , 0.        ,\n",
              "       0.        , 0.        , 0.        , 0.        , 0.        ,\n",
              "       0.        , 0.        , 0.        , 0.        , 0.        ,\n",
              "       0.        , 0.        , 0.        , 0.        , 0.        ,\n",
              "       0.        , 0.        , 0.        , 0.        , 0.        ,\n",
              "       0.        , 0.        , 0.        , 0.        , 0.        ,\n",
              "       0.        , 0.        , 0.        , 0.        , 0.        ,\n",
              "       0.        , 0.        , 0.        , 0.        , 0.        ,\n",
              "       0.        , 0.        , 0.        , 0.        , 0.        ,\n",
              "       0.        , 0.        , 0.        , 0.        , 0.        ,\n",
              "       0.        , 0.        , 0.        , 0.        , 0.        ,\n",
              "       0.        , 0.        , 0.        , 0.        , 0.        ,\n",
              "       0.        , 0.        , 0.        , 0.        , 0.        ,\n",
              "       0.        , 0.        , 0.        , 0.        ], dtype=float32)"
            ]
          },
          "metadata": {
            "tags": []
          },
          "execution_count": 200
        }
      ]
    },
    {
      "metadata": {
        "id": "sOYo9MhR_nHx",
        "colab_type": "code",
        "colab": {
          "base_uri": "https://localhost:8080/",
          "height": 34
        },
        "outputId": "c641ce43-ed1e-48b2-aa02-10bda05827c2"
      },
      "cell_type": "code",
      "source": [
        "X_train.shape"
      ],
      "execution_count": 15,
      "outputs": [
        {
          "output_type": "execute_result",
          "data": {
            "text/plain": [
              "(60000, 28, 28)"
            ]
          },
          "metadata": {
            "tags": []
          },
          "execution_count": 15
        }
      ]
    },
    {
      "metadata": {
        "id": "jdoAI2Pf-P9R",
        "colab_type": "code",
        "colab": {
          "base_uri": "https://localhost:8080/",
          "height": 356
        },
        "outputId": "29843516-b12a-41e0-d961-e86438af8826"
      },
      "cell_type": "code",
      "source": [
        "%pylab inline\n",
        "fig, ax = plt.subplots(nrows=2, ncols=5, sharex=True, sharey=True)\n",
        "ax = ax.flatten()\n",
        "for i in range(10):\n",
        "  img = X_train[y_train == i][0].reshape(28, 28)\n",
        "  ax[i].imshow(img, cmap='Greys', interpolation='nearest')\n",
        "ax[0].set_xticks([])\n",
        "ax[0].set_yticks([])\n",
        "show()"
      ],
      "execution_count": 5,
      "outputs": [
        {
          "output_type": "stream",
          "text": [
            "Populating the interactive namespace from numpy and matplotlib\n"
          ],
          "name": "stdout"
        },
        {
          "output_type": "stream",
          "text": [
            "/usr/local/lib/python3.6/dist-packages/IPython/core/magics/pylab.py:161: UserWarning: pylab import has clobbered these variables: ['seed']\n",
            "`%matplotlib` prevents importing * from pylab and numpy\n",
            "  \"\\n`%matplotlib` prevents importing * from pylab and numpy\"\n"
          ],
          "name": "stderr"
        },
        {
          "output_type": "display_data",
          "data": {
            "image/png": "[encoded data removed]",
            "text/plain": [
              "<matplotlib.figure.Figure at 0x7fc3abb50eb8>"
            ]
          },
          "metadata": {
            "tags": []
          }
        }
      ]
    },
    {
      "metadata": {
        "id": "jtumbNevwqJL",
        "colab_type": "code",
        "colab": {}
      },
      "cell_type": "code",
      "source": [
        "# flatten 28*28 images to a 784 vector for each image\n",
        "num_pixels = X_train.shape[1] * X_train.shape[2]\n",
        "X_train = X_train.reshape(X_train.shape[0], num_pixels).astype('float32')\n",
        "X_test = X_test.reshape(X_test.shape[0], num_pixels).astype('float32')"
      ],
      "execution_count": 0,
      "outputs": []
    },
    {
      "metadata": {
        "id": "X9AQyvSGwtkI",
        "colab_type": "code",
        "colab": {}
      },
      "cell_type": "code",
      "source": [
        "# normalize inputs from 0-255 to 0-1\n",
        "X_train = X_train / 255\n",
        "X_test = X_test / 255"
      ],
      "execution_count": 0,
      "outputs": []
    },
    {
      "metadata": {
        "id": "Atz_X3YPwvGW",
        "colab_type": "code",
        "colab": {}
      },
      "cell_type": "code",
      "source": [
        "# one hot encode outputs\n",
        "y_train = np_utils.to_categorical(y_train)\n",
        "y_test = np_utils.to_categorical(y_test)\n",
        "num_classes = y_test.shape[1]"
      ],
      "execution_count": 0,
      "outputs": []
    },
    {
      "metadata": {
        "id": "XraRsTsWAdUq",
        "colab_type": "code",
        "colab": {
          "base_uri": "https://localhost:8080/",
          "height": 34
        },
        "outputId": "fed5027e-8ac5-4f1b-86c5-b0f54ecc9519"
      },
      "cell_type": "code",
      "source": [
        "X_train.shape"
      ],
      "execution_count": 106,
      "outputs": [
        {
          "output_type": "execute_result",
          "data": {
            "text/plain": [
              "(60000, 784)"
            ]
          },
          "metadata": {
            "tags": []
          },
          "execution_count": 106
        }
      ]
    },
    {
      "metadata": {
        "id": "a_aw-9_mwxXf",
        "colab_type": "code",
        "colab": {}
      },
      "cell_type": "code",
      "source": [
        "# define sgd model\n",
        "def sgd_model():\n",
        "\t# create model\n",
        "\tmodel = Sequential()\n",
        "\tmodel.add(Dense(num_pixels, input_dim=num_pixels, kernel_initializer='normal', activation='relu'))\n",
        "\tmodel.add(Dense(num_classes, kernel_initializer='normal', activation='softmax'))\n",
        "  \n",
        "\t# Compile model\n",
        "\tmodel.compile(loss='categorical_crossentropy', optimizer='sgd', metrics=['accuracy'])\n",
        "\treturn model"
      ],
      "execution_count": 0,
      "outputs": []
    },
    {
      "metadata": {
        "id": "9CLPDqa-Tj-2",
        "colab_type": "code",
        "colab": {}
      },
      "cell_type": "code",
      "source": [
        "# define adagrad model\n",
        "def adagrad_model():\n",
        "\t# create model\n",
        "\tmodel = Sequential()\n",
        "\tmodel.add(Dense(num_pixels, input_dim=num_pixels, kernel_initializer='normal', activation='relu'))\n",
        "\tmodel.add(Dense(num_classes, kernel_initializer='normal', activation='softmax'))\n",
        "  \n",
        "\t# Compile model\n",
        "\tmodel.compile(loss='categorical_crossentropy', optimizer='adagrad', metrics=['accuracy'])\n",
        "\treturn model"
      ],
      "execution_count": 0,
      "outputs": []
    },
    {
      "metadata": {
        "id": "mfrXuYoDTj4v",
        "colab_type": "code",
        "colab": {}
      },
      "cell_type": "code",
      "source": [
        "# define adam model\n",
        "def adam_model():\n",
        "\t# create model\n",
        "\tmodel = Sequential()\n",
        "\tmodel.add(Dense(num_pixels, input_dim=num_pixels, kernel_initializer='normal', activation='relu'))\n",
        "\tmodel.add(Dense(num_classes, kernel_initializer='normal', activation='softmax'))\n",
        "  \n",
        "\t# Compile model\n",
        "\tmodel.compile(loss='categorical_crossentropy', optimizer='adam', metrics=['accuracy'])\n",
        "\treturn model"
      ],
      "execution_count": 0,
      "outputs": []
    },
    {
      "metadata": {
        "id": "S_9Tajsa4rce",
        "colab_type": "code",
        "colab": {}
      },
      "cell_type": "code",
      "source": [
        "# build the model\n",
        "model = sgd_model()"
      ],
      "execution_count": 0,
      "outputs": []
    },
    {
      "metadata": {
        "id": "d72QdHGYDiHj",
        "colab_type": "code",
        "colab": {
          "base_uri": "https://localhost:8080/",
          "height": 544
        },
        "outputId": "bafc7758-1fa1-4e40-ff7e-ca64fa8c0621"
      },
      "cell_type": "code",
      "source": [
        "model.get_config()"
      ],
      "execution_count": 127,
      "outputs": [
        {
          "output_type": "execute_result",
          "data": {
            "text/plain": [
              "{'layers': [{'class_name': 'Dense',\n",
              "   'config': {'activation': 'relu',\n",
              "    'activity_regularizer': None,\n",
              "    'batch_input_shape': (None, 784),\n",
              "    'bias_constraint': None,\n",
              "    'bias_initializer': {'class_name': 'Zeros', 'config': {}},\n",
              "    'bias_regularizer': None,\n",
              "    'dtype': 'float32',\n",
              "    'kernel_constraint': None,\n",
              "    'kernel_initializer': {'class_name': 'RandomNormal',\n",
              "     'config': {'mean': 0.0, 'seed': None, 'stddev': 0.05}},\n",
              "    'kernel_regularizer': None,\n",
              "    'name': 'dense_5',\n",
              "    'trainable': True,\n",
              "    'units': 784,\n",
              "    'use_bias': True}},\n",
              "  {'class_name': 'Dense',\n",
              "   'config': {'activation': 'softmax',\n",
              "    'activity_regularizer': None,\n",
              "    'bias_constraint': None,\n",
              "    'bias_initializer': {'class_name': 'Zeros', 'config': {}},\n",
              "    'bias_regularizer': None,\n",
              "    'kernel_constraint': None,\n",
              "    'kernel_initializer': {'class_name': 'RandomNormal',\n",
              "     'config': {'mean': 0.0, 'seed': None, 'stddev': 0.05}},\n",
              "    'kernel_regularizer': None,\n",
              "    'name': 'dense_6',\n",
              "    'trainable': True,\n",
              "    'units': 10,\n",
              "    'use_bias': True}}],\n",
              " 'name': 'sequential_3'}"
            ]
          },
          "metadata": {
            "tags": []
          },
          "execution_count": 127
        }
      ]
    },
    {
      "metadata": {
        "id": "338o0GSJwzFq",
        "colab_type": "code",
        "colab": {
          "base_uri": "https://localhost:8080/",
          "height": 1005
        },
        "outputId": "bdae56c9-defa-483e-9ad8-1eea3645dfa9"
      },
      "cell_type": "code",
      "source": [
        "# Fit the model\n",
        "history = model.fit(X_train, y_train, validation_data=(X_test, y_test), epochs=10, batch_size=bs, verbose=1)"
      ],
      "execution_count": 129,
      "outputs": [
        {
          "output_type": "stream",
          "text": [
            "Train on 60000 samples, validate on 10000 samples\n",
            "Epoch 1/10\n",
            "60000/60000 [==============================] - 9s 142us/step - loss: 0.2782 - acc: 0.9210 - val_loss: 0.1411 - val_acc: 0.9575\n",
            "Epoch 2/10\n",
            "60000/60000 [==============================] - 8s 129us/step - loss: 0.1116 - acc: 0.9676 - val_loss: 0.0920 - val_acc: 0.9704\n",
            "Epoch 3/10\n",
            "60000/60000 [==============================] - 8s 132us/step - loss: 0.0718 - acc: 0.9797 - val_loss: 0.0784 - val_acc: 0.9769\n",
            "Epoch 4/10\n",
            "60000/60000 [==============================] - 8s 134us/step - loss: 0.0503 - acc: 0.9857 - val_loss: 0.0745 - val_acc: 0.9772\n",
            "Epoch 5/10\n",
            "60000/60000 [==============================] - 9s 145us/step - loss: 0.0373 - acc: 0.9892 - val_loss: 0.0671 - val_acc: 0.9793\n",
            "Epoch 6/10\n",
            "60000/60000 [==============================] - 8s 133us/step - loss: 0.0270 - acc: 0.9926 - val_loss: 0.0636 - val_acc: 0.9798\n",
            "Epoch 7/10\n",
            "60000/60000 [==============================] - 8s 133us/step - loss: 0.0211 - acc: 0.9947 - val_loss: 0.0622 - val_acc: 0.9807\n",
            "Epoch 8/10\n",
            "60000/60000 [==============================] - 8s 133us/step - loss: 0.0140 - acc: 0.9969 - val_loss: 0.0634 - val_acc: 0.9798\n",
            "Epoch 9/10\n",
            "60000/60000 [==============================] - 8s 133us/step - loss: 0.0106 - acc: 0.9980 - val_loss: 0.0574 - val_acc: 0.9818\n",
            "Epoch 10/10\n",
            "60000/60000 [==============================] - 8s 134us/step - loss: 0.0078 - acc: 0.9985 - val_loss: 0.0582 - val_acc: 0.9817\n"
          ],
          "name": "stdout"
        }
      ]
    },
    {
      "metadata": {
        "id": "Bg0ifwo6Bl1v",
        "colab_type": "code",
        "colab": {
          "base_uri": "https://localhost:8080/",
          "height": 34
        },
        "outputId": "a8f1160e-2dce-4a63-d1dd-a83a0af43932"
      },
      "cell_type": "code",
      "source": [
        "history"
      ],
      "execution_count": 28,
      "outputs": [
        {
          "output_type": "execute_result",
          "data": {
            "text/plain": [
              "<keras.callbacks.History at 0x7fc3745f0c18>"
            ]
          },
          "metadata": {
            "tags": []
          },
          "execution_count": 28
        }
      ]
    },
    {
      "metadata": {
        "id": "Kht3LJCbL94Y",
        "colab_type": "code",
        "colab": {
          "base_uri": "https://localhost:8080/",
          "height": 3859
        },
        "outputId": "c95ccdd5-56a1-496e-8195-dad226c3615e"
      },
      "cell_type": "code",
      "source": [
        "model.get_weights()"
      ],
      "execution_count": 31,
      "outputs": [
        {
          "output_type": "execute_result",
          "data": {
            "text/plain": [
              "[array([[-0.04067891, -0.01663   ,  0.01646814, ...,  0.02625924,\n",
              "          0.00186153, -0.05936078],\n",
              "        [ 0.0556249 , -0.04051981,  0.09514583, ..., -0.09421033,\n",
              "         -0.03572423, -0.01438545],\n",
              "        [-0.05584394, -0.03894864, -0.0223413 , ..., -0.10041159,\n",
              "         -0.04311673,  0.01042833],\n",
              "        ...,\n",
              "        [-0.03836379, -0.01547784,  0.09151926, ..., -0.01031861,\n",
              "         -0.03432941, -0.07082302],\n",
              "        [ 0.03202686, -0.08683631,  0.06813446, ...,  0.11603751,\n",
              "         -0.03371342,  0.02736845],\n",
              "        [-0.01816093,  0.03203246, -0.02297845, ..., -0.02935493,\n",
              "          0.08398807, -0.00830634]], dtype=float32),\n",
              " array([ 1.99570763e-03,  4.06645499e-02,  1.69959888e-02,  2.67276634e-03,\n",
              "         5.31450321e-04, -4.59269527e-03,  1.10795582e-02,  1.67260561e-02,\n",
              "        -4.57577553e-04,  4.57091909e-03,  8.59936234e-03,  1.37424637e-02,\n",
              "         2.15436351e-02,  1.64535325e-02, -2.23673717e-03, -5.66302473e-03,\n",
              "         2.66972161e-03,  6.17700908e-03,  1.57382395e-02,  3.78953782e-03,\n",
              "        -1.51069998e-03,  7.13618891e-03,  2.03268346e-03, -3.61917075e-03,\n",
              "         3.53335100e-03,  1.05709210e-02,  5.60139632e-03, -9.27777903e-04,\n",
              "         6.03205711e-03,  3.95471044e-03,  8.89083953e-04, -7.80476909e-03,\n",
              "         1.72866881e-02,  3.32245417e-03, -4.87059355e-03,  1.75331568e-03,\n",
              "        -1.31040020e-02,  9.57261492e-03, -4.20438475e-04, -1.26289055e-02,\n",
              "         4.42705816e-03, -2.64707458e-04,  2.16942397e-03,  1.67992769e-03,\n",
              "         2.33338960e-02,  5.89600019e-03,  3.62805696e-03,  4.60123504e-03,\n",
              "         4.51262482e-02,  1.01681601e-03, -5.46423206e-03, -5.38227381e-03,\n",
              "         4.12814412e-03,  9.92354658e-03, -3.36805242e-03,  1.37410630e-02,\n",
              "         8.30227602e-03,  8.16381630e-03, -1.98383187e-03,  1.15677007e-02,\n",
              "         1.74297914e-02, -9.59194731e-03,  1.95411616e-03,  6.45876164e-03,\n",
              "         1.51852230e-02,  1.84837598e-02,  4.12520301e-03,  5.36407717e-03,\n",
              "         9.08406638e-03,  4.72714705e-03,  7.09587382e-03, -6.65381411e-03,\n",
              "         1.17405429e-02, -1.39117718e-03,  1.72333810e-02,  7.85774458e-03,\n",
              "         1.07277427e-02,  3.65284993e-03,  2.58412715e-02, -4.06928500e-03,\n",
              "         4.20924556e-03,  1.36935022e-02,  1.37779769e-02, -1.39361306e-03,\n",
              "         8.62187613e-03,  1.17106806e-03,  8.01389571e-03,  1.88356824e-02,\n",
              "         1.18697220e-02, -4.17745207e-03,  1.43185072e-02,  2.55305902e-03,\n",
              "         1.73158347e-04, -4.29058360e-04,  1.66524108e-02,  8.62309895e-03,\n",
              "        -5.44667011e-03,  3.59140191e-04,  1.88132878e-02,  1.20937051e-02,\n",
              "         2.26266719e-02,  1.61916658e-03,  9.43244994e-03,  1.67708639e-02,\n",
              "         3.46216233e-03, -1.16957799e-02,  6.17230730e-03, -5.92001295e-03,\n",
              "         1.27720386e-02,  1.65198147e-02, -1.00918775e-02,  7.53049739e-03,\n",
              "        -4.97493101e-03,  1.00955805e-02, -9.39300691e-04,  3.94649664e-03,\n",
              "        -6.46688882e-03,  8.29701032e-03,  2.83191376e-03, -1.09980488e-02,\n",
              "         1.30409589e-02,  1.65405143e-02,  2.23711431e-02,  1.16167869e-02,\n",
              "        -4.52479813e-03, -7.15747150e-03,  2.07007187e-03,  4.47705202e-03,\n",
              "         1.56431720e-02, -6.59234636e-03,  4.23842296e-03, -3.27440607e-03,\n",
              "         5.38603496e-03,  1.48268165e-02, -2.36011273e-03,  1.73748434e-02,\n",
              "        -2.02070130e-03,  3.58189060e-03,  2.02847999e-02, -5.31623373e-03,\n",
              "         4.83580050e-04,  9.94593184e-03,  2.89601684e-02,  1.21149351e-03,\n",
              "        -7.26902904e-03,  2.05556699e-03,  4.41581663e-03,  4.50478680e-03,\n",
              "         1.49227483e-02, -4.38502431e-03,  1.34899383e-02, -8.08784214e-04,\n",
              "         1.32943960e-02,  4.67182556e-03,  1.15696378e-02,  6.32915739e-03,\n",
              "         8.93021468e-04,  4.07847995e-03,  2.13751830e-02, -7.55482214e-03,\n",
              "         1.67831052e-02, -7.83353765e-03,  4.29532072e-03,  6.41696388e-03,\n",
              "         1.12237409e-02,  5.11851627e-03, -2.60872446e-04, -7.81247579e-03,\n",
              "         8.45489465e-03, -2.76012393e-03, -4.18760639e-04,  1.34887928e-02,\n",
              "         6.35908311e-03,  1.46226557e-02,  2.59557869e-02,  2.12037805e-02,\n",
              "        -1.99318468e-03,  6.78319437e-03,  8.33972916e-03, -1.95432664e-03,\n",
              "         2.16676798e-02,  2.60807388e-03,  6.55799126e-03,  5.07690292e-03,\n",
              "         5.09205135e-03, -3.84429353e-03,  1.47467442e-02,  2.51012668e-03,\n",
              "         5.33369696e-03, -4.56935028e-03,  1.24750212e-02,  1.33928759e-02,\n",
              "         8.43080226e-03, -9.79567878e-04,  2.86776136e-04,  6.21824665e-03,\n",
              "         1.81420939e-03,  6.07826980e-03, -1.11278323e-02,  7.91198201e-03,\n",
              "         3.67495068e-03,  3.12129334e-02,  3.75703792e-04,  1.17852562e-03,\n",
              "         1.60060953e-02, -1.56951766e-03, -4.37403069e-05, -3.66547704e-03,\n",
              "         6.74714986e-03, -5.23634069e-03, -5.12878504e-03,  1.85115375e-02,\n",
              "         2.90316902e-03,  9.18408670e-03, -4.28947806e-03,  1.66853033e-02,\n",
              "         9.34299268e-03, -2.12237690e-04,  2.94640614e-03,  2.31969748e-02,\n",
              "         4.70406562e-03,  9.63601936e-03,  5.17930789e-03,  2.46072914e-02,\n",
              "         1.53374868e-02,  1.07498532e-02,  3.67822312e-03,  1.67349284e-03,\n",
              "        -5.90606825e-03,  9.24827252e-03, -6.79477258e-03, -9.75312479e-03,\n",
              "         3.18709412e-03, -1.63678371e-03,  4.99275792e-03,  1.01694334e-02,\n",
              "        -1.97579525e-03, -3.30343517e-03,  1.35881212e-02, -2.55630841e-03,\n",
              "        -3.67139978e-03, -1.49906683e-03,  5.48546435e-03,  6.17301418e-03,\n",
              "        -9.49384703e-04,  2.98815430e-03,  2.08037812e-02,  6.02485787e-04,\n",
              "         1.71672762e-03, -6.01793500e-03,  1.15794372e-02,  8.14922154e-03,\n",
              "        -3.89690138e-03,  1.10459914e-02,  8.80956370e-03,  2.53333524e-03,\n",
              "         1.17041571e-02,  8.58061574e-03,  1.18630463e-02,  1.78263653e-02,\n",
              "         1.08571593e-02,  3.09285857e-02,  1.22573189e-02,  6.32114767e-04,\n",
              "         8.02873168e-03,  2.16794200e-02,  1.15239108e-02,  1.81704778e-02,\n",
              "         1.43296933e-02,  1.74673926e-03,  7.80655257e-03,  1.50437038e-02,\n",
              "        -1.68389059e-03,  5.82232699e-03, -7.55761238e-03,  8.79996922e-03,\n",
              "         2.85868309e-02,  7.32769584e-03, -6.48526358e-04,  1.67577323e-02,\n",
              "         2.33227815e-02,  7.04795681e-03,  2.68867686e-02,  1.35214031e-02,\n",
              "        -5.12960786e-03,  5.43559762e-03,  1.21762464e-02,  2.88461335e-03,\n",
              "         1.90045014e-02, -3.44390143e-03,  7.38311885e-03, -5.57303289e-03,\n",
              "        -8.01723916e-03,  1.49079291e-02, -8.23809125e-04,  9.48593020e-04,\n",
              "         3.60850096e-02,  5.80913993e-03,  1.94284078e-02, -2.42911140e-03,\n",
              "         1.45014357e-02,  4.66813421e-04,  5.29061863e-03,  1.63756500e-04,\n",
              "        -3.96444509e-03,  6.21252041e-03, -3.24847735e-03,  1.32823363e-03,\n",
              "        -3.99024878e-03, -6.82083657e-04,  1.31353578e-02,  2.63839122e-02,\n",
              "         1.22418709e-03,  4.14839573e-03,  4.78497706e-03, -1.76116533e-03,\n",
              "         5.35830099e-04,  1.51655416e-03,  7.89892487e-03, -1.38785020e-02,\n",
              "         2.55838931e-02,  1.08832745e-02,  9.85261519e-03,  9.28148348e-03,\n",
              "         1.49749136e-02, -1.10835396e-02,  1.37535427e-02,  5.88320522e-03,\n",
              "         6.02439139e-03, -6.62851008e-03, -1.03571278e-03,  1.27416197e-03,\n",
              "         5.92113147e-03, -2.52682227e-03, -7.98660144e-03,  7.03471620e-03,\n",
              "         1.01360038e-03,  1.23772388e-02,  7.82777835e-03, -2.68139807e-03,\n",
              "         1.17967529e-02,  1.65966041e-02,  7.38590490e-03,  2.02805698e-02,\n",
              "         4.54280246e-03, -7.52629619e-03, -3.54774389e-03,  1.33712394e-02,\n",
              "         9.31284111e-03,  6.05356134e-03,  9.22381971e-03,  1.27161611e-02,\n",
              "        -8.50758632e-04,  1.66090652e-02,  4.30399738e-03,  1.44538926e-02,\n",
              "        -1.55830372e-03,  1.85486637e-02,  7.99695868e-03,  1.14578316e-02,\n",
              "         7.91751873e-03, -2.79645924e-03,  1.90646097e-03,  2.16163434e-02,\n",
              "         8.23258795e-03,  2.27386188e-02,  8.14418867e-03,  7.05941697e-04,\n",
              "         8.64636991e-03,  2.59515531e-02,  4.24723700e-03, -7.77904131e-03,\n",
              "         9.34285752e-04,  7.30282115e-03,  1.13115273e-02,  1.37237553e-02,\n",
              "        -1.61577463e-02,  2.70145969e-03,  1.08150989e-02, -2.01809127e-03,\n",
              "         2.09962670e-02,  1.06255412e-02,  1.80958919e-02,  2.62733386e-03,\n",
              "         1.38889011e-02,  1.49349705e-03,  2.09873915e-03, -8.27628188e-03,\n",
              "         2.69131735e-03,  2.02947184e-02,  1.95764168e-03,  1.94432295e-03,\n",
              "         7.66773056e-03,  8.23704898e-03,  2.22227792e-03,  2.29558516e-02,\n",
              "         1.52845420e-02,  8.39442387e-03,  8.94331560e-03, -5.41069370e-04,\n",
              "         1.46832801e-02,  4.84805927e-03, -1.42654497e-02,  6.91340247e-04,\n",
              "        -4.91469819e-03,  8.12385697e-04,  1.25054978e-02,  2.69994289e-02,\n",
              "        -3.71896080e-03,  5.92695829e-03, -1.06385583e-02,  7.68107828e-03,\n",
              "         9.53113753e-03,  5.82170673e-03,  7.76521303e-03, -2.68103299e-03,\n",
              "         1.16086463e-02,  1.53216440e-02,  2.00438350e-02, -2.45087990e-03,\n",
              "         1.26716392e-02,  4.64022672e-03,  4.70421650e-03,  4.69824998e-03,\n",
              "        -2.37624440e-03,  2.27396134e-02,  2.02911557e-03,  6.40236028e-03,\n",
              "        -1.55905040e-03, -4.22062213e-03,  2.16742214e-02,  8.44158605e-03,\n",
              "         1.41380716e-03,  7.47265236e-04,  3.08278389e-03,  4.83117672e-03,\n",
              "         6.86250674e-03,  2.26712058e-04, -7.49280257e-03, -4.27925773e-03,\n",
              "         1.40467780e-02,  1.45102735e-03,  1.52999172e-02,  4.56178095e-03,\n",
              "         1.57052465e-02, -2.71999929e-03,  2.04171780e-02,  2.76242010e-02,\n",
              "         6.08966174e-03,  7.15736067e-03,  7.61851482e-03,  1.90310571e-02,\n",
              "         5.47843240e-03,  1.13245454e-02,  4.42514522e-03,  1.98509241e-03,\n",
              "        -7.68381171e-03,  9.35174245e-03,  2.01263744e-02,  1.30824018e-02,\n",
              "         1.09797216e-03,  2.05282145e-03,  1.97889134e-02,  1.62421949e-02,\n",
              "         1.57245062e-02,  7.33001903e-03,  1.08138742e-02,  3.10773379e-03,\n",
              "         5.22836531e-03,  1.67312939e-02, -6.92889048e-03,  1.25130694e-02,\n",
              "         8.59947782e-03,  1.00964131e-02, -1.09918658e-02, -1.33497206e-05,\n",
              "         1.35333017e-02,  1.28683122e-02,  7.04292394e-03,  1.51819456e-02,\n",
              "        -1.22569641e-03,  3.11725657e-03,  8.61007837e-04,  2.05439189e-03,\n",
              "         5.94364386e-03, -1.63887639e-03,  5.00297593e-03,  2.05171574e-03,\n",
              "         2.59545874e-02,  6.54098438e-03,  2.60880543e-03,  1.51600484e-02,\n",
              "         5.52247232e-03, -9.41169972e-04, -1.21616258e-03,  5.65373991e-03,\n",
              "        -5.44254342e-03, -2.39936318e-02,  2.65896730e-02,  2.59599602e-03,\n",
              "         4.55052080e-03, -5.01891423e-04, -3.77501617e-03, -3.08406958e-03,\n",
              "         1.39219768e-03, -3.81489121e-03, -2.19316548e-03, -1.74695614e-03,\n",
              "         6.92402245e-03,  1.72992274e-02,  5.94445225e-03, -1.83483101e-02,\n",
              "        -1.61306828e-03, -1.23740465e-03,  8.69165990e-04,  5.48772793e-03,\n",
              "         5.16736275e-03,  1.06206834e-02,  4.61480953e-03, -1.47184287e-03,\n",
              "         7.84447510e-03,  7.32546672e-03,  1.70438574e-03,  1.27459140e-02,\n",
              "         9.14149731e-03,  1.01885060e-02, -5.69190318e-03,  2.15246361e-02,\n",
              "        -5.02520381e-03,  1.03943683e-02,  2.04368960e-02,  9.11480375e-03,\n",
              "         8.03911779e-03,  2.31385813e-03,  5.09906095e-03,  1.48220919e-02,\n",
              "        -2.80320132e-03,  4.44855820e-03,  1.88021213e-02,  3.03175580e-03,\n",
              "         1.98364090e-02,  1.88792106e-02,  3.07634217e-03,  2.82206051e-02,\n",
              "         1.89597514e-02, -4.30520566e-04,  6.15169946e-03,  3.84981488e-03,\n",
              "         2.37696990e-02, -2.37232330e-03,  6.45247754e-03,  1.98730500e-03,\n",
              "         9.19540878e-03,  5.57787716e-03, -5.66618517e-03,  1.35765085e-02,\n",
              "         1.56269921e-03,  3.79695999e-03,  1.60373598e-02,  5.65360393e-03,\n",
              "         1.99506199e-03,  8.63344781e-03,  6.78037759e-03,  2.00145692e-02,\n",
              "         6.51783589e-03, -7.96297844e-03,  1.84291955e-02,  1.42800692e-03,\n",
              "         6.95203664e-03,  5.84634161e-03, -4.15238272e-03,  3.54723143e-03,\n",
              "        -4.17472050e-03, -7.26447580e-03,  3.10615753e-03, -2.27945580e-04,\n",
              "        -1.02359930e-03,  1.22550223e-02,  1.38779441e-02,  8.15078709e-03,\n",
              "        -1.30826738e-02,  2.28752266e-04,  7.97232520e-03,  8.02462921e-03,\n",
              "         7.03585381e-03,  6.77680736e-03,  8.32977798e-03,  1.59232249e-03,\n",
              "        -2.37540095e-04, -8.30584380e-04,  2.57290248e-03, -2.75156950e-03,\n",
              "         1.52372057e-02, -4.93574888e-03,  1.62011990e-03,  7.50796078e-03,\n",
              "        -2.23541958e-03,  1.45619479e-03,  7.07769068e-03,  1.42972311e-03,\n",
              "         1.68552343e-02,  4.69183037e-03, -2.38156831e-03, -4.45226301e-03,\n",
              "         1.20608369e-02,  1.32260588e-03,  2.50787917e-03,  1.00896265e-02,\n",
              "         2.63170083e-03,  4.32353187e-03, -3.95188574e-03,  1.78610682e-02,\n",
              "         4.12165793e-03, -1.83229931e-02,  1.29427379e-02,  3.02498206e-03,\n",
              "         1.20346034e-02,  2.72632111e-03,  6.53789332e-03,  3.12083215e-02,\n",
              "         1.16447574e-02,  2.35732105e-02,  2.12497171e-02, -3.81476618e-03,\n",
              "         1.10363942e-02,  2.73568439e-03,  1.71090662e-02,  3.89888254e-03,\n",
              "         8.13401863e-03,  2.94691361e-02,  7.49162724e-03,  3.28526879e-03,\n",
              "         9.92729794e-04,  3.40025639e-03,  1.46344667e-02,  1.08102979e-02,\n",
              "         2.31130701e-03, -2.99722218e-04, -6.03295257e-03,  8.48521478e-03,\n",
              "        -5.67614054e-03, -1.38012081e-04, -8.58142413e-03,  1.65420584e-02,\n",
              "        -3.35844554e-04,  9.83791146e-03,  1.01050902e-02,  7.07076211e-03,\n",
              "         5.08050947e-03,  8.59770924e-03,  1.57683231e-02,  2.38249078e-02,\n",
              "         5.74997347e-03, -4.35683690e-03,  1.51951825e-02,  5.46417083e-04,\n",
              "         1.21455705e-02,  1.05232839e-02,  1.08677684e-03,  4.21905192e-03,\n",
              "         1.93562650e-03, -8.07630830e-03,  1.69394370e-02,  5.67491818e-03,\n",
              "         8.92199110e-03,  8.55131727e-03,  1.27756065e-02,  8.98747705e-03,\n",
              "         2.40580324e-04, -3.84516665e-03,  4.24452033e-03,  8.81325454e-03,\n",
              "         2.69412965e-04,  1.60747822e-02, -9.02182236e-03,  7.25761172e-04,\n",
              "         1.50139630e-02,  2.63569201e-03,  1.23507180e-03,  2.40404718e-02,\n",
              "         1.42866117e-03, -3.54355713e-03,  1.25604579e-02, -8.32976028e-03,\n",
              "         4.18791780e-03,  1.48606282e-02, -4.93214047e-03, -7.85716402e-04,\n",
              "         2.45161150e-02,  6.40198495e-03,  2.03330116e-03,  1.96283171e-03,\n",
              "         8.15595407e-03,  7.98937958e-03,  1.90206170e-02,  2.21610814e-02,\n",
              "         9.94812138e-03,  4.95730713e-03,  8.57435632e-03, -6.76756212e-03,\n",
              "        -1.40987348e-03,  1.30073735e-02,  1.25845959e-02, -7.73526309e-03,\n",
              "         2.77466788e-05,  7.13808986e-05, -3.35104275e-03,  4.67890734e-03,\n",
              "        -3.76181025e-03, -6.33121282e-03, -7.35802902e-03,  1.53690809e-02,\n",
              "         1.05498387e-02,  1.04379440e-02,  8.58592466e-05,  7.91390520e-03,\n",
              "        -4.56041656e-03,  2.55028671e-03,  1.50029035e-03,  1.23591593e-03,\n",
              "         2.91557924e-04,  1.86474659e-02,  1.36657646e-02,  2.58371257e-03,\n",
              "         1.47415074e-02,  3.38265812e-03,  3.30782216e-03, -1.53690241e-02,\n",
              "         7.75581645e-03, -1.75688649e-03,  4.13147314e-03,  3.60788591e-03,\n",
              "        -1.09950290e-03,  1.34103596e-02,  5.31575782e-03,  5.65235037e-03,\n",
              "        -5.15763974e-03,  1.22401984e-02,  1.12293670e-02,  3.68550722e-03,\n",
              "         1.14246635e-02,  7.47794379e-03, -2.17105960e-03,  1.41797131e-02,\n",
              "         1.75402605e-03,  9.53700766e-03, -1.27773508e-02,  2.13852804e-03,\n",
              "         1.30733792e-02,  1.46616772e-02,  5.57488156e-03, -7.74074753e-04,\n",
              "         2.07000598e-02, -1.44685910e-04, -5.75161492e-03,  1.94033294e-03,\n",
              "        -8.42336915e-04, -1.82249479e-03,  2.29348987e-02,  1.59210016e-04,\n",
              "         1.94943380e-02,  1.19965430e-02,  1.82483979e-02,  1.60957593e-02,\n",
              "         1.93723245e-03, -1.54445705e-03,  2.32483260e-03, -1.00841168e-02,\n",
              "         3.40476003e-03,  1.47040738e-02,  2.67130649e-03,  5.76459523e-03,\n",
              "        -1.35812191e-02,  2.81493068e-02,  1.70903578e-02, -7.69421086e-03,\n",
              "         2.75340807e-02,  2.11872980e-02, -7.15080649e-03,  4.56454605e-03,\n",
              "         2.51888689e-02,  5.09909634e-03,  9.60613228e-03,  2.00024322e-02],\n",
              "       dtype=float32),\n",
              " array([[ 0.03579163, -0.04217773, -0.00247461, ..., -0.06234135,\n",
              "         -0.0420385 ,  0.15244624],\n",
              "        [-0.08589949,  0.08054788,  0.05916037, ..., -0.1636957 ,\n",
              "         -0.00268903, -0.11339716],\n",
              "        [-0.13700475,  0.1614221 , -0.09203926, ..., -0.06091415,\n",
              "          0.06092739,  0.06432439],\n",
              "        ...,\n",
              "        [ 0.13797061, -0.08914362,  0.07010175, ..., -0.02140477,\n",
              "          0.00735457, -0.08328523],\n",
              "        [-0.02645668, -0.05127871, -0.00816114, ...,  0.02410138,\n",
              "         -0.08751705, -0.00613582],\n",
              "        [ 0.13715059,  0.09359733,  0.11358494, ..., -0.0324561 ,\n",
              "         -0.11804234, -0.08382881]], dtype=float32),\n",
              " array([-0.05398124,  0.06590566, -0.00888084, -0.03539625,  0.00857485,\n",
              "         0.08107764, -0.01469027,  0.07640377, -0.11598665, -0.00302649],\n",
              "       dtype=float32)]"
            ]
          },
          "metadata": {
            "tags": []
          },
          "execution_count": 31
        }
      ]
    },
    {
      "metadata": {
        "id": "phGivikQW-OC",
        "colab_type": "code",
        "colab": {
          "base_uri": "https://localhost:8080/",
          "height": 51
        },
        "outputId": "3b2984be-e80f-40c3-aac4-cacfa241c0a4"
      },
      "cell_type": "code",
      "source": [
        "# Final evaluation of the model\n",
        "scores = model.evaluate(X_test, y_test, verbose=1)\n",
        "print(\"Baseline Error: %.2f%%\" % (100-scores[1]*100))"
      ],
      "execution_count": 130,
      "outputs": [
        {
          "output_type": "stream",
          "text": [
            "10000/10000 [==============================] - 1s 78us/step\n",
            "Baseline Error: 1.83%\n"
          ],
          "name": "stdout"
        }
      ]
    },
    {
      "metadata": {
        "id": "-PxLNUIiDuLX",
        "colab_type": "code",
        "colab": {
          "base_uri": "https://localhost:8080/",
          "height": 34
        },
        "outputId": "e1cab680-1378-4127-d6b3-f31eaae53cb5"
      },
      "cell_type": "code",
      "source": [
        "scores"
      ],
      "execution_count": 131,
      "outputs": [
        {
          "output_type": "execute_result",
          "data": {
            "text/plain": [
              "[0.058208085484542246, 0.9817]"
            ]
          },
          "metadata": {
            "tags": []
          },
          "execution_count": 131
        }
      ]
    },
    {
      "metadata": {
        "id": "VlXWppfA48-_",
        "colab_type": "code",
        "colab": {
          "base_uri": "https://localhost:8080/",
          "height": 34
        },
        "outputId": "d3b3de47-a208-49b1-f1f8-fa175e29ef53"
      },
      "cell_type": "code",
      "source": [
        "# list all data in history\n",
        "history.history.keys()"
      ],
      "execution_count": 36,
      "outputs": [
        {
          "output_type": "execute_result",
          "data": {
            "text/plain": [
              "dict_keys(['val_loss', 'val_acc', 'loss', 'acc'])"
            ]
          },
          "metadata": {
            "tags": []
          },
          "execution_count": 36
        }
      ]
    },
    {
      "metadata": {
        "id": "PLH3cVUS6Lbt",
        "colab_type": "code",
        "colab": {
          "base_uri": "https://localhost:8080/",
          "height": 294
        },
        "outputId": "da919560-355b-46a6-af1e-b67d49d1654c"
      },
      "cell_type": "code",
      "source": [
        "# summarize history for accuracy\n",
        "plt.plot(history.history['acc'])\n",
        "plt.plot(history.history['val_acc'])\n",
        "plt.title('model accuracy')\n",
        "plt.ylabel('accuracy')\n",
        "plt.xlabel('epoch')\n",
        "plt.legend(['train', 'test'], loc='upper left')\n",
        "plt.show()"
      ],
      "execution_count": 132,
      "outputs": [
        {
          "output_type": "display_data",
          "data": {
            "image/png": "[encoded data removed]",
            "text/plain": [
              "<matplotlib.figure.Figure at 0x7fc386aa5860>"
            ]
          },
          "metadata": {
            "tags": []
          }
        }
      ]
    },
    {
      "metadata": {
        "id": "FyN6r0am6DLc",
        "colab_type": "code",
        "colab": {
          "base_uri": "https://localhost:8080/",
          "height": 294
        },
        "outputId": "a2d55c5d-f40d-4400-e5e9-7244e40b3134"
      },
      "cell_type": "code",
      "source": [
        "# summarize history for loss\n",
        "plt.plot(history.history['loss'])\n",
        "plt.plot(history.history['val_loss'])\n",
        "plt.title('model loss')\n",
        "plt.ylabel('loss')\n",
        "plt.xlabel('epoch')\n",
        "plt.legend(['train', 'test'], loc='upper left')\n",
        "plt.show()"
      ],
      "execution_count": 133,
      "outputs": [
        {
          "output_type": "display_data",
          "data": {
            "image/png": "[encoded data removed]",
            "text/plain": [
              "<matplotlib.figure.Figure at 0x7fc38695f278>"
            ]
          },
          "metadata": {
            "tags": []
          }
        }
      ]
    },
    {
      "metadata": {
        "id": "4h3ytlZIgdvO",
        "colab_type": "code",
        "colab": {
          "base_uri": "https://localhost:8080/",
          "height": 282
        },
        "outputId": "7b4987fe-6186-4bc9-841a-4503ff618a38"
      },
      "cell_type": "code",
      "source": [
        "image_index = 1230\n",
        "plt.imshow(X_test[image_index].reshape(28, 28), cmap='Greys')"
      ],
      "execution_count": 198,
      "outputs": [
        {
          "output_type": "execute_result",
          "data": {
            "text/plain": [
              "<matplotlib.image.AxesImage at 0x7fc3707bc9e8>"
            ]
          },
          "metadata": {
            "tags": []
          },
          "execution_count": 198
        },
        {
          "output_type": "display_data",
          "data": {
            "image/png": "[encoded data removed]",
            "text/plain": [
              "<matplotlib.figure.Figure at 0x7fc37091aba8>"
            ]
          },
          "metadata": {
            "tags": []
          }
        }
      ]
    },
    {
      "metadata": {
        "id": "98h2ymM-pcik",
        "colab_type": "code",
        "colab": {
          "base_uri": "https://localhost:8080/",
          "height": 68
        },
        "outputId": "2e5be80b-a480-4f7d-f470-e71b3aa58f87"
      },
      "cell_type": "code",
      "source": [
        "pred = model.predict(X_test[image_index].reshape(1, 28*28))\n",
        "pred.argmax()"
      ],
      "execution_count": 199,
      "outputs": [
        {
          "output_type": "execute_result",
          "data": {
            "text/plain": [
              "array([[8.7246763e-13, 2.9863983e-11, 6.6701018e-09, 6.9182193e-10,\n",
              "        9.9999559e-01, 4.7697418e-10, 2.1700771e-11, 1.4742753e-10,\n",
              "        2.5941370e-08, 4.3652772e-06]], dtype=float32)"
            ]
          },
          "metadata": {
            "tags": []
          },
          "execution_count": 199
        }
      ]
    },
    {
      "metadata": {
        "id": "gnNoNb6Cq8Sj",
        "colab_type": "code",
        "colab": {}
      },
      "cell_type": "code",
      "source": [
        ""
      ],
      "execution_count": 0,
      "outputs": []
    }
  ]
}