{
  "nbformat": 4,
  "nbformat_minor": 0,
  "metadata": {
    "colab": {
      "name": "mnist-keras-cnn.ipynb",
      "version": "0.3.2",
      "provenance": [],
      "collapsed_sections": []
    },
    "kernelspec": {
      "name": "python3",
      "display_name": "Python 3"
    }
  },
  "cells": [
    {
      "metadata": {
        "id": "OqMh3nJIxTxu",
        "colab_type": "code",
        "colab": {
          "base_uri": "https://localhost:8080/",
          "height": 34
        },
        "outputId": "b3e13be7-0f5d-4bc3-b71e-eba8d50bf123"
      },
      "cell_type": "code",
      "source": [
        "import numpy\n",
        "from keras.datasets import mnist\n",
        "from keras.models import Sequential\n",
        "from keras.layers import Dense\n",
        "from keras.layers import Dropout\n",
        "from keras.layers import Flatten\n",
        "from keras.layers.convolutional import Conv2D\n",
        "from keras.layers.convolutional import MaxPooling2D\n",
        "from keras.utils import np_utils\n",
        "from keras import backend as K\n",
        "import matplotlib.pyplot as plt\n",
        "K.set_image_dim_ordering('th')"
      ],
      "execution_count": 1,
      "outputs": [
        {
          "output_type": "stream",
          "text": [
            "Using TensorFlow backend.\n"
          ],
          "name": "stderr"
        }
      ]
    },
    {
      "metadata": {
        "id": "KU-NQ6kfxXP5",
        "colab_type": "code",
        "colab": {}
      },
      "cell_type": "code",
      "source": [
        "# fix random seed for reproducibility\n",
        "seed = 7\n",
        "numpy.random.seed(seed)"
      ],
      "execution_count": 0,
      "outputs": []
    },
    {
      "metadata": {
        "id": "SjyPvHE6xf_w",
        "colab_type": "code",
        "colab": {}
      },
      "cell_type": "code",
      "source": [
        "# load data\n",
        "(X_train, y_train), (X_test, y_test) = mnist.load_data()\n",
        "# reshape to be [samples][pixels][width][height]\n",
        "X_train = X_train.reshape(X_train.shape[0], 1, 28, 28).astype('float32')\n",
        "X_test = X_test.reshape(X_test.shape[0], 1, 28, 28).astype('float32')"
      ],
      "execution_count": 0,
      "outputs": []
    },
    {
      "metadata": {
        "id": "Ezt5Jx-dx1LL",
        "colab_type": "code",
        "colab": {}
      },
      "cell_type": "code",
      "source": [
        "# normalize inputs from 0-255 to 0-1\n",
        "X_train = X_train / 255\n",
        "X_test = X_test / 255\n",
        "# one hot encode outputs\n",
        "y_train = np_utils.to_categorical(y_train)\n",
        "y_test = np_utils.to_categorical(y_test)\n",
        "num_classes = y_test.shape[1]"
      ],
      "execution_count": 0,
      "outputs": []
    },
    {
      "metadata": {
        "id": "-g34uGnQx4Ca",
        "colab_type": "code",
        "colab": {}
      },
      "cell_type": "code",
      "source": [
        "def cnn_model():\n",
        "\t# create model\n",
        "\tmodel = Sequential()\n",
        "\tmodel.add(Conv2D(32, (5, 5), input_shape=(1, 28, 28), activation='relu'))\n",
        "\tmodel.add(MaxPooling2D(pool_size=(2, 2)))\n",
        "\tmodel.add(Dropout(0.2))\n",
        "\tmodel.add(Flatten())\n",
        "\tmodel.add(Dense(128, activation='relu'))\n",
        "\tmodel.add(Dense(num_classes, activation='softmax'))\n",
        "\t# Compile model\n",
        "\tmodel.compile(loss='categorical_crossentropy', optimizer='adam', metrics=['accuracy'])\n",
        "\treturn model"
      ],
      "execution_count": 0,
      "outputs": []
    },
    {
      "metadata": {
        "id": "mEYYKbKmykCZ",
        "colab_type": "code",
        "outputId": "62f74a82-6a9e-468d-9483-f6fa9a2b3ad6",
        "colab": {
          "base_uri": "https://localhost:8080/",
          "height": 391
        }
      },
      "cell_type": "code",
      "source": [
        "# build the model\n",
        "model = cnn_model()\n",
        "# Fit the model\n",
        "model.fit(X_train, y_train, validation_data=(X_test, y_test), epochs=10, batch_size=200, verbose=1)\n",
        "# Final evaluation of the model\n",
        "scores = model.evaluate(X_test, y_test, verbose=0)\n",
        "print(\"CNN Error: %.2f%%\" % (100-scores[1]*100))"
      ],
      "execution_count": 6,
      "outputs": [
        {
          "output_type": "stream",
          "text": [
            "Train on 60000 samples, validate on 10000 samples\n",
            "Epoch 1/10\n",
            "60000/60000 [==============================] - 271s 5ms/step - loss: 0.2225 - acc: 0.9366 - val_loss: 0.0793 - val_acc: 0.9749\n",
            "Epoch 2/10\n",
            "60000/60000 [==============================] - 271s 5ms/step - loss: 0.0713 - acc: 0.9786 - val_loss: 0.0455 - val_acc: 0.9847\n",
            "Epoch 3/10\n",
            "60000/60000 [==============================] - 270s 5ms/step - loss: 0.0513 - acc: 0.9842 - val_loss: 0.0450 - val_acc: 0.9858\n",
            "Epoch 4/10\n",
            "60000/60000 [==============================] - 270s 4ms/step - loss: 0.0392 - acc: 0.9879 - val_loss: 0.0417 - val_acc: 0.9874\n",
            "Epoch 5/10\n",
            "60000/60000 [==============================] - 269s 4ms/step - loss: 0.0326 - acc: 0.9898 - val_loss: 0.0347 - val_acc: 0.9882\n",
            "Epoch 6/10\n",
            "60000/60000 [==============================] - 269s 4ms/step - loss: 0.0267 - acc: 0.9916 - val_loss: 0.0327 - val_acc: 0.9895\n",
            "Epoch 7/10\n",
            "60000/60000 [==============================] - 269s 4ms/step - loss: 0.0224 - acc: 0.9927 - val_loss: 0.0356 - val_acc: 0.9883\n",
            "Epoch 8/10\n",
            "60000/60000 [==============================] - 271s 5ms/step - loss: 0.0192 - acc: 0.9941 - val_loss: 0.0340 - val_acc: 0.9881\n",
            "Epoch 9/10\n",
            "60000/60000 [==============================] - 271s 5ms/step - loss: 0.0159 - acc: 0.9951 - val_loss: 0.0328 - val_acc: 0.9896\n",
            "Epoch 10/10\n",
            "60000/60000 [==============================] - 271s 5ms/step - loss: 0.0144 - acc: 0.9957 - val_loss: 0.0332 - val_acc: 0.9885\n",
            "CNN Error: 1.15%\n"
          ],
          "name": "stdout"
        }
      ]
    },
    {
      "metadata": {
        "id": "SvVN3tPTypLt",
        "colab_type": "code",
        "outputId": "0d4cfaf2-4814-4b87-e827-6cc1e7d464d3",
        "colab": {
          "base_uri": "https://localhost:8080/",
          "height": 221
        }
      },
      "cell_type": "code",
      "source": [
        "from tensorflow.python.client import device_lib\n",
        "device_lib.list_local_devices()"
      ],
      "execution_count": 1,
      "outputs": [
        {
          "output_type": "execute_result",
          "data": {
            "text/plain": [
              "[name: \"/device:CPU:0\"\n",
              " device_type: \"CPU\"\n",
              " memory_limit: 268435456\n",
              " locality {\n",
              " }\n",
              " incarnation: 12261204087482225343, name: \"/device:XLA_CPU:0\"\n",
              " device_type: \"XLA_CPU\"\n",
              " memory_limit: 17179869184\n",
              " locality {\n",
              " }\n",
              " incarnation: 15367124574315269720\n",
              " physical_device_desc: \"device: XLA_CPU device\"]"
            ]
          },
          "metadata": {
            "tags": []
          },
          "execution_count": 1
        }
      ]
    },
    {
      "metadata": {
        "id": "-pS8in3CzYvI",
        "colab_type": "code",
        "colab": {
          "base_uri": "https://localhost:8080/",
          "height": 364
        },
        "outputId": "a1e4bc2c-227f-41e5-c1a1-2d679fe03776"
      },
      "cell_type": "code",
      "source": [
        "image_index = 1230\n",
        "plt.imshow(X_test[image_index].reshape(28, 28), cmap='Greys')"
      ],
      "execution_count": 11,
      "outputs": [
        {
          "output_type": "execute_result",
          "data": {
            "text/plain": [
              "<matplotlib.image.AxesImage at 0x7f6030236208>"
            ]
          },
          "metadata": {
            "tags": []
          },
          "execution_count": 11
        },
        {
          "output_type": "display_data",
          "data": {
            "image/png": "[encoded data removed]",
            "text/plain": [
              "<matplotlib.figure.Figure at 0x7f603038af98>"
            ]
          },
          "metadata": {
            "tags": []
          }
        }
      ]
    },
    {
      "metadata": {
        "id": "u-fDkru6srbQ",
        "colab_type": "code",
        "colab": {
          "base_uri": "https://localhost:8080/",
          "height": 34
        },
        "outputId": "d474090a-0156-458d-9d9b-8769c12557b3"
      },
      "cell_type": "code",
      "source": [
        "# (batch, height, width, channels)\n",
        "pred = model.predict(X_test[image_index].reshape(1, 1, 28, 28))\n",
        "pred.argmax()"
      ],
      "execution_count": 17,
      "outputs": [
        {
          "output_type": "execute_result",
          "data": {
            "text/plain": [
              "4"
            ]
          },
          "metadata": {
            "tags": []
          },
          "execution_count": 17
        }
      ]
    },
    {
      "metadata": {
        "id": "eKUkj9Z0sxIE",
        "colab_type": "code",
        "colab": {}
      },
      "cell_type": "code",
      "source": [
        ""
      ],
      "execution_count": 0,
      "outputs": []
    }
  ]
}